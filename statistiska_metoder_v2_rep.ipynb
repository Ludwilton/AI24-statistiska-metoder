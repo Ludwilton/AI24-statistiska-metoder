{
 "cells": [
  {
   "cell_type": "markdown",
   "metadata": {},
   "source": [
    "# Sannolikhet och uppräkning\n",
    "sannolikhet representeras med ett värde mellan 0 och 1\n",
    "\n",
    "detta kan även ses som ett procent-tal, 0.63 är alltså 63% sannolikhet\n",
    "\n",
    "1 - händer alltid\n",
    "\n",
    "0 - händer aldrig\n",
    "\n",
    "0.5 = lika sannolikt som osannolikt\n",
    "\n",
    "#### två sätt att se på sannolikhet: \n",
    "\n",
    "frekventistisk(relativ frekvens) och klassisk sannolikhet\n"
   ]
  },
  {
   "cell_type": "markdown",
   "metadata": {},
   "source": [
    "## Relativ frekvens\n",
    "$$ P[A] = \\frac{f}{n} = \\frac{\\texttt{antalet gånger A inträffade}}{\\texttt{totala antalet observationer}}$$\n",
    "\n",
    "exempel:\n",
    "        \n",
    "    Vid en kraftanläggning mäts det att att under 80 av de närmsta 100 dagarna, slumpmässigt valda från loggarna så nådde kraftförsörjningen ett maximum mellan 18-19. Vad är sannolikheten att max sker mellan 18-19 en annan dag\n",
    "\n",
    "$$\\frac{f}{n} = \\frac{80}{100} = 0.8$$\n"
   ]
  },
  {
   "cell_type": "markdown",
   "metadata": {},
   "source": [
    "## klassiska formeln\n",
    "$$P[A] = \\frac{n(A)}{n(S)} = \\frac{\\texttt{antalet sätt A kan inträffa}}{\\texttt{antalet utfall experimentet kan ha}}$$\n",
    "\n",
    "S = utfallsrummet/Sample space\n",
    "\n",
    "#### exempel:\n",
    "\n",
    "S = {(brown, blue), (blue, brown), (blue, blue), (brown, brown)}\n",
    "\n",
    "\n",
    "#### Sannolikhet för blåa ögon:\n",
    "$$P = \\frac {1}{4} = 0.25 $$\n",
    "\n",
    "\n",
    "\n",
    "### händelser \n",
    "En $händelse$ är en delmängd av ett utfallsrum.\n",
    "Alltså att slumpvariabler antar sina värden\n",
    "$exempel$\n",
    "tre datorer i en månraket:\n",
    "\n",
    "$S = {YYY, YYN,YNN,YNY,YNN,NYY,NYN,NNY,NNN}$\n",
    "\n",
    "en händelse A: \n",
    "\n",
    "primära datorsystemet är igång dvs\n",
    "\n",
    "$A_1 = {yyy,yyn,yny,ynn}$\n",
    "\n",
    "primära systemet är nere.\n",
    "\n",
    "$A_2 = {nyy,nyn,nny,nnn}$\n",
    "\n",
    "\n",
    "händelser är ömsesidigt uteslutande då\n",
    "\n",
    "$A_1 \\cap A_2 = \\varnothing \\leftarrow \\texttt{sant för ovanstående}$ \n",
    "\n",
    "$A_1 \\to \\bigcirc \\bigcirc \\leftarrow A_2 $\n",
    "\n",
    "\n",
    "\n",
    "\n"
   ]
  },
  {
   "cell_type": "markdown",
   "metadata": {},
   "source": [
    "### Faktorial:\n",
    "$5! = 5 * 4 * 3 * 2 * 1 = 120 $\n",
    "växer enormt fort! snabbare än expontentialfunktion. \n",
    "\n",
    "dvs:\n",
    "$ f(x) = x!\n",
    "\\texttt{ snabbare än } \n",
    "f(x) = e^x \n",
    "$\n",
    "\n",
    "$nPr : \\texttt {Antalet permuationer av n distinkta objekt r-st åt gången:}$(ordning betydelsefull)\n",
    "\n",
    "$nPr = \\frac{n!}{(n-r)!}$\n",
    "\n",
    "## exempel permutationer\n",
    "${_9P_4} = \\texttt{\"välj 4 av }9^n = \\frac{9!}{(9-4)!} = \\frac{9 * 8 * 7 * 6 * 5! }{5!} = 3024 $"
   ]
  },
  {
   "cell_type": "markdown",
   "metadata": {},
   "source": [
    "\n",
    "nPr där n = 10 och r = 1\n",
    "\n",
    "$\\frac{10!}{(10-1!)}= \\frac{10!}{9!} = 10$\n",
    "\n",
    "-> välj en siffra (av 10 möjliga)\n",
    "\n",
    "$nPr = {_{10}P{_2}} = \\frac{10!}{(10-2)!}=\\frac{10!}{8!}=10*9=90$\n",
    "\n",
    "dvs för permutation måste objekten vara distinkta\n",
    "\n",
    "detta är alltså antalet tal med två siffror som ej är samma!\n",
    "\n",
    "vi väljer en siffra på första plats, sedan har vi 9 möjligheter kvar.\n",
    "\n",
    "här spelar ordningen roll men utan upprepning, ett annat ord för upprepning är återläggning(i sannolikhetslära )\n",
    "\n",
    "##### $\\texttt{dragning med hänsyn till ordning, utan återläggning = permutation}$"
   ]
  },
  {
   "cell_type": "markdown",
   "metadata": {},
   "source": [
    "### exempel dragning $med$ hänsyn till ordning $med$ återläggning\n",
    "\n",
    "ex 1 \n",
    "    \n",
    "    antalet tipsrader: 1, x, 3; skall gissa 13 matcher\n",
    "    \n",
    "    välj 13 ur 3 möjliga, hänsyn till ordning, med återläggning\n",
    "\n",
    "$n^k = 3^{13} \\approx \\texttt{1.6 miljoner}$\n",
    "\n",
    "ex 2\n",
    "\n",
    "    hur många delmängder finns det till en mängd med n element?\n",
    "$\\implies 2^n, \\texttt{låt varje element \"rösta\" ja/nej om det skall vara med i delmängden}$\n",
    "\n",
    "\n"
   ]
  },
  {
   "cell_type": "markdown",
   "metadata": {},
   "source": [
    "### kombinationer // dragning $utan$ hänsyn till ordning $utan$ återläggning\n",
    "(viktigast av dem alla!)\n",
    "\n",
    "$_nC_r$ - \"välj r-st av n möjliga\"\n",
    "\n",
    "$\\binom{n}{r} - \\texttt{ binomial koefficient }(a+b)^n$\n",
    "\n",
    "$\\binom{n}{k}= \\frac{n!}{k!(n-k)!}={_nP_r}={_nC_r}=r! \\implies {_nC_r}= \\frac{_nP_r}{r!}$ \n",
    "\n",
    "#### exempel på kombinationer [$_nC_r = \\binom{n}{r}$]\n",
    "\n",
    "    hur många ord kan bildas om samtliga bokstäver i ordet \"PARALLELL\" skall användas?\n",
    "    vi tänker oss att vi har 9 platser, uppradade från vänster.\n",
    "    \n",
    "    välj först fyra platser för \"L\":en.\n",
    "$$\\binom{9}{4}$$\n",
    "\n",
    "    välj sedan 2 plater för \"A\":n:\n",
    "$$\\binom {5}{2}$$\n",
    "\n",
    "    därefter återstående:\n",
    "$$3!$$\n",
    "\n",
    "    alltså\n",
    "$$\\implies$$\n",
    "$$\\binom{9}{4}\\binom{5}{2}3!=7560$$\n",
    "\n",
    ":\n",
    "\n",
    "$$ \\frac{9!}{(4!2!)} $$\n",
    "\n"
   ]
  },
  {
   "cell_type": "markdown",
   "metadata": {},
   "source": [
    "### dragning utan ordning med återläggning:\n",
    "denna stöter vi inte på ofta\n",
    "$$\\frac{n+r-1}{r}$$"
   ]
  },
  {
   "cell_type": "markdown",
   "metadata": {},
   "source": [
    "#### distribution\n",
    "exempel tärning\n",
    "(dragning med återläggnig utan hänsyn till ordning)\n",
    "\n",
    "$\\frac{n+r-1}{r}$\n",
    "\n",
    "i detta fall blir ekvationen \n",
    "$$\\frac{n(\\texttt{utfall av en tärning(1/6)})+r((\\texttt{2 tärningar(2)}))-1}{r}$$\n",
    "\n",
    "2T6\n",
    "\n",
    "utfall: individuellt utfall\n",
    "\n",
    "2: {1,1}\n",
    "\n",
    "3: {2,1},{1,2}\n",
    "\n",
    "4: {1,3}{2,2}{3,1}\n",
    "\n",
    "5: {1,4}{2,3},{3,2},{4,1}\n",
    "\n",
    "6: {1,5}{2,4},{3,3},{4,2}{5,1}\n",
    "\n",
    "7: {1,6}{2,5},{3,4},{4,3}{5,2},{6,1}\n",
    "\n",
    "8: {2,6}{3,5},{4,4},{5,3}{2,6}\n",
    "\n",
    "osv\n",
    "\n",
    "\n",
    "n(s) = 36\n",
    "n(A) = 6\n",
    "$\\implies X = 7$\n",
    "\n",
    "$\\frac{6}{36}=\\frac{1}{6}$\n",
    "\n",
    "\n"
   ]
  },
  {
   "cell_type": "markdown",
   "metadata": {},
   "source": [
    "medlet = väntevärdet(statistik)\n",
    "för en tärning är väntevärdet:\n",
    "1+2+3+4+5+6 = 21\n",
    "\n",
    "$21/6 = 3.5$\n",
    "\n",
    "dvs medlet/väntevärdet är 3,5\n",
    "\n",
    "$\\texttt{expectation} väntevärde(mean/medel)$\n",
    "\n",
    "$E[X] = \\mu$\n",
    "\n",
    "X är här en slumpvariabel som antar 1-6 med lika(uniform) sannolikhet\n",
    "\n",
    "uniform distribution:\n",
    "\n",
    "$E[X=x] = \\frac{\\sum x}{n}$"
   ]
  },
  {
   "cell_type": "markdown",
   "metadata": {},
   "source": [
    "### definition av väntevärde:\n",
    "\n",
    "uniform dist. H(x)=X\n",
    "\n",
    "$E[X]=\\sum\\limits_{x}H(x)f(x)$\n",
    "\n",
    "\n",
    "utfallsrummet för en tärning $S(X)={1,2,3,4,5,6}$ dvs ${x\\epsilon X}$ tar värden 1-6\n",
    "\n",
    "uträkning enligt formen\n",
    "\n",
    "$$\\sum\\limits_{x}xf(x) = 1*1/6+2*1/6+3*1/6+...+6*1/6=\\frac{1+2+3+4+5+6}{6}=3,5$$\n",
    "\n",
    "om vi tar istället en åttasidigt tärning (T8): \n",
    "\n",
    "$$\\sum\\limits^{8}_{i=1}\\frac{1}{8}*i= \\frac{1+2+3+4+5+6+7+8}{8}=\\frac{36}{8}=4.5$$"
   ]
  },
  {
   "cell_type": "markdown",
   "metadata": {},
   "source": [
    "väntevärde för X med utfall x\n",
    "\n",
    "$E[X]=\\sum\\limits_{x}xf(x)$\n"
   ]
  },
  {
   "cell_type": "markdown",
   "metadata": {},
   "source": []
  },
  {
   "cell_type": "markdown",
   "metadata": {},
   "source": [
    "### Exempel hjärtmedicin\n",
    "en hjärtmedicin för efterbehandling vid hjärtinfarkt undersöks.\n",
    "\n",
    "låt\n",
    "X = antalet hjärtslag per minut och patient.\n",
    "\n",
    "tabell:\n",
    "\n",
    "![hjärtmedicin](/Users/luddecmc/Desktop/SKOLARBETE-ITHS/repos/AI24-Statistiska-metoder/assets/hjärtmedicin.png)\n",
    "\n",
    "för att detta ska vara en sannolikhetsdistribution behöver summan av alla f(x) vara 1\n",
    "\n",
    "$\\sum\\limits_{x}f(x)-1$ <- stämmer i detta fall\n",
    "\n",
    "vi vill veta väntevärdet:\n",
    "\n",
    "$40(0.01)+60(0.04)+68(.05)+70(.8)+72(.05)+80(.04)+100(.01)=70$\n",
    "$\\mu_x=70$ (medlet av x)\n"
   ]
  },
  {
   "cell_type": "markdown",
   "metadata": {},
   "source": [
    "#### väntevärdet är ett av flera viktiga kvantitativa mått\n",
    "De kallas också moment(till en distribution)\n"
   ]
  },
  {
   "cell_type": "markdown",
   "metadata": {},
   "source": [
    "### Ett annat är _Varians_\n",
    "\n",
    "definition:\n",
    "\n",
    "Låt X Vara en slump variabel med medelvärde $\\mu$\n",
    "\n",
    "variansen av X ($Var X$) eller $\\sigma^2$ ges av:\n",
    "\n",
    "$Var X = \\sigma^2 = E[(X-\\mu)^2]$ \n",
    "\n",
    "kan också se ut som $E[X^2]-(E[X])^2$(formel för beräkning)\n"
   ]
  },
  {
   "cell_type": "markdown",
   "metadata": {},
   "source": [
    "#### Exempel(medicin)\n",
    "![hjärtmedicin](/Users/luddecmc/Desktop/SKOLARBETE-ITHS/repos/AI24-Statistiska-metoder/assets/hjärtmedicin.png)\n",
    "\n",
    "först vill vi räkna ut väntevärdet av X i kvadrat E[X^2]\n",
    "\n",
    "$E[X^2] = \\sum\\limits_{X}x^2f(x)$\n",
    "\n",
    "=\n",
    "\n",
    "$40^2(.01)+60^2(.04)+...+100^2(.01)=4926.4$\n",
    "\n",
    "Var X: \n",
    "\n",
    "$E[X^2]-(E[X]^2=4926.4-70^2=26.4$ \n",
    "\n",
    "variansen X (26.4) i detta fall representar ett kvardrerat värde \"hjärtslag per minut i kvadrat per person i kvadrat\" det betyder inte mycket men det är en indikation på spridningen av värdet\n",
    "\n",
    "men om vi har 2 varianser med 2 olika värden med kanske en annan medicin som hade en varians på 700 så går det att jämföra mediciner på det sättet, det är däremot svårt att tolka! inga enheter och svårt att tyda enskilt.\n",
    "\n",
    "ett bättre och enklare typ av värde att använda är\n",
    "\n",
    "\n"
   ]
  },
  {
   "cell_type": "markdown",
   "metadata": {},
   "source": [
    "### Standardavvikelsen (standard deviation):\n",
    "\n",
    "$\\sigma=\\sqrt{Var X} = \\sqrt{\\sigma^2}$\n",
    "\n",
    "$\\sigma=\\sqrt{26.4} = 5.14$ i hjärtslag! (korrekta enheter)\n",
    "\n",
    "tolkning, värden som hamnar längre än 5 hjärtslag bort är inte statistiskt säkerställda, tex om vi har en person med förväntat 70 hjärtslag i minuten, och vi har en person med 80, så är vi 2 gånger denna standardavvikelsen bort, då är vi $2\\sigma$ sannolikhet att det är fel, alltså att det inte stämmer överens med distributionen.\n",
    "\n",
    "----\n",
    "\n",
    "\n",
    "notera\n",
    "\n",
    "stickprovsavvikelsen(standard error) i allmänna fall:\n",
    "\n",
    "går mot 0 när antalet datapunkter(utfall) går mot $\\infty$\n",
    "\n",
    "detta är ifall något inte är konsistent, hjärtslag i detta fall är konsistent.  men om något inte är konsistent tar man ett stickprov. "
   ]
  },
  {
   "cell_type": "code",
   "execution_count": null,
   "metadata": {},
   "outputs": [],
   "source": [
    "https://ithogskolan.sharepoint.com/sites/AI24Gteborg/Delade%20dokument/Statistiska%20metoder/Recordings/Meeting%20in%20_Statistiska%20metoder_-20250117_101501-Meeting%20Recording.mp4?web=1&referrer=Teams.TEAMS-ELECTRON&referrerScenario=MeetingChicletGetLink.view\n",
    "https://ithogskolan.sharepoint.com/sites/AI24Gteborg/Delade%20dokument/Statistiska%20metoder/Recordings/Meeting%20in%20_Statistiska%20metoder_-20250117_111702-M%C3%B6tesinspelning.mp4?web=1&referrer=Teams.TEAMS-ELECTRON&referrerScenario=MeetingChicletGetLink.view\n",
    "https://ithogskolan.sharepoint.com/sites/AI24Gteborg/Delade%20dokument/Statistiska%20metoder/Recordings/Meeting%20in%20_Statistiska%20metoder_-20250117_130513-M%C3%B6tesinspelning.mp4?web=1&referrer=Teams.TEAMS-ELECTRON&referrerScenario=MeetingChicletGetLink.view"
   ]
  }
 ],
 "metadata": {
  "kernelspec": {
   "display_name": ".venv",
   "language": "python",
   "name": "python3"
  },
  "language_info": {
   "name": "python",
   "version": "3.12.6"
  }
 },
 "nbformat": 4,
 "nbformat_minor": 2
}
