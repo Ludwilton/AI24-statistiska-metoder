{
 "cells": [
  {
   "cell_type": "markdown",
   "metadata": {},
   "source": [
    "# Confidence interval\n",
    "\n",
    "$\\texttt{A:}100(1-\\alpha)\\% \\texttt{ confidence interval for a parameter } \\varnothing \\texttt{ is a random interval } [L_1,L_2] $\n",
    "\n",
    "such that p\n",
    "$ [L_1\\leq\\varnothing\\leq L_2]\n",
    "$"
   ]
  },
  {
   "cell_type": "markdown",
   "metadata": {},
   "source": [
    "let the following be a random variable\n",
    "$$\\frac{X-\\mu}{\\sigma/\\sqrt{n}}$$\n",
    "\n",
    "if $\\mu$ is known then the variable follow a standard normal distribution"
   ]
  },
  {
   "cell_type": "markdown",
   "metadata": {},
   "source": [
    "\n",
    "\n",
    "\n",
    "\n",
    "![confidenceinterval](/Users/luddecmc/Desktop/SKOLARBETE-ITHS/repos/AI24-Statistiska-metoder/assets/confidence_interval.png) "
   ]
  },
  {
   "cell_type": "markdown",
   "metadata": {},
   "source": [
    "A $100(1-\\alpha)\\%$ interval on $\\mu$ when $\\sigma^2$ is known:\n",
    "let $X_1,X_2,...,X_n$ be on a random sample from a normal distribution\n",
    "\n",
    "konfidensintervallet: \n",
    "\n",
    "$$X\\pm Z_{\\alpha/2}\\sigma \\sqrt{n}$$  \n",
    "\n",
    "t.ex \n",
    "\n",
    "$8\\pm 2$\n",
    "\n",
    "$p[6\\leq 8 \\leq 10] = 0.93$"
   ]
  },
  {
   "cell_type": "markdown",
   "metadata": {},
   "source": [
    "### central limit theorem\n",
    "def.\n",
    "\n",
    "let $X_1,X_2,...,X_n$ be a random sample of size n from a distribution with mean $\\mu$ and variance $\\sigma^2$. then, for large n, X is approximately normal with mean $\\mu$ and variance $\\sigma^2$\n",
    "furthermore $\\frac{x-\\mu}{\\sigma\\ / \\sqrt{n}}$ is approx. standard normal.\n",
    "\n",
    "\" vi kan alltid centrera en statistisk distribution med $\\frac{x-\\mu}{\\sigma\\ / \\sqrt{n}}$ \"\n",
    "\n",
    "\"oavsett distribution, sålänge det är tillräckligt många stickprov kommer den vara ungefär normal\"\n",
    "\n",
    "video: https://www.youtube.com/watch?v=zeJD6dqJ5lo&list=PL4cNQ1YkG5WhQGmPnRe4vDUImh_nviriy&index=5"
   ]
  },
  {
   "cell_type": "markdown",
   "metadata": {},
   "source": [
    "\n",
    "\n",
    "\n",
    "----"
   ]
  },
  {
   "cell_type": "markdown",
   "metadata": {},
   "source": [
    "# Distributions\n",
    "\n",
    "    A. Geometric distribution\n",
    "\n",
    "    1. the experiement consists of a trials, the outcome of each trial is either \"success\" or \"failure\" (S) or (F). such a trial is known as a bernoulli-trial.\n",
    "    2. the trials are identical and independent. \"ex. om vi singlar slant, gör vi dem på samma sätt och dem är oberoende av varandra.\"\n",
    "    3. the random variable X denotes the number of trials needed to obtain the first success\n",
    "   \n",
    "\n",
    "S = {S, FS, FFS, FFFS, ..}\n",
    "\n",
    "P[X=1] probability of success on first trial = P\n",
    "\n",
    "P[X=2] = probability of failure on first trial and success on second = (1-P)P"
   ]
  }
 ],
 "metadata": {
  "language_info": {
   "name": "python"
  }
 },
 "nbformat": 4,
 "nbformat_minor": 2
}
