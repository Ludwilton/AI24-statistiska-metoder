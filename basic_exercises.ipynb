{
 "cells": [
  {
   "cell_type": "code",
   "execution_count": 1,
   "metadata": {},
   "outputs": [],
   "source": [
    "import math"
   ]
  },
  {
   "cell_type": "code",
   "execution_count": 5,
   "metadata": {},
   "outputs": [
    {
     "name": "stdout",
     "output_type": "stream",
     "text": [
      "exercise 4\n",
      " 60480 teams can be formed\n",
      " 30240 teams can be formed with the fixed engineer\n"
     ]
    }
   ],
   "source": [
    "from math import comb as binom\n",
    "\n",
    "number_of_teams = binom(10, 3)*binom(8,2)*binom(4,2)*binom(3,1)\n",
    "fixed_engineer = binom(10, 3)*binom(8,2)*binom(3,1)*binom(3,1)\n",
    "\n",
    "print(f\"exercise 4\\n {number_of_teams} teams can be formed\\n {fixed_engineer} teams can be formed with the fixed engineer\")\n",
    "\n"
   ]
  },
  {
   "cell_type": "code",
   "execution_count": 8,
   "metadata": {},
   "outputs": [
    {
     "name": "stdout",
     "output_type": "stream",
     "text": [
      "exercise 5\n",
      " 118813760.0 passwords can be formed\n",
      "exercise 5\n",
      " There are 100 possible weak passwords\n"
     ]
    }
   ],
   "source": [
    "# a computer system uses passwords that consist of five letters followed by a single digit, \n",
    "# how many different passwords can be formed if the letters and digits can be repeated?\n",
    "\n",
    "# 26 letters in the alphabet\n",
    "# 10 digits\n",
    "#with repetition, with order: n^k\n",
    "number_of_passwords = math.pow(26, 5)*10\n",
    "print(f\"exercise 5\\n {number_of_passwords} passwords can be formed\")\n",
    "\n",
    "#(b) how many passwords consist of 3 a's\n",
    "# choose three of five positions for A's\n",
    "# the B's then have only one possibility\n",
    "# the digit has 10 possibilities\n",
    "#note: binom(5,3) == binom(5,2)\n",
    "\n",
    "weak_passwords = binom(5,3)*10\n",
    "print(f\"exercise 5\\n There are {int(weak_passwords)} possible weak passwords\")"
   ]
  },
  {
   "cell_type": "code",
   "execution_count": 12,
   "metadata": {},
   "outputs": [
    {
     "name": "stdout",
     "output_type": "stream",
     "text": [
      "A) probability is 42%\n"
     ]
    }
   ],
   "source": [
    "# red unit success = 60%\n",
    "# blue unit success = 70%\n",
    "# only red = 18%\n",
    "#a) probability of p(R§ && B)\n",
    "#b) probability of p(R xor B), ie P[R or B] - P[R And B]\n",
    "# P(R) = 0.6\n",
    "# P(B) = 0.7\n",
    "# p(A && !B) = 0.18\n",
    "\n",
    "# Multiplikationsregeln\n",
    "# P[A %% B] = P[B|A]*P[A]\n",
    "# Bayes Theorem\n",
    "# P[A|B] = P[B|A]P[A]/P[B]\n",
    "\n",
    "# P[A && !B] = P[!B|A]*P[!B]\n",
    "# What are the chances both units meet the requirements?\n",
    "#  note if E = R && !B then P[R] - !E Is the sought after probability, which is equivalent to P[R]P[B]\n",
    "\n",
    "\n",
    "print(f\"A) probability is {int((.6-.18)*100)}%\")"
   ]
  }
 ],
 "metadata": {
  "kernelspec": {
   "display_name": "Python 3",
   "language": "python",
   "name": "python3"
  },
  "language_info": {
   "codemirror_mode": {
    "name": "ipython",
    "version": 3
   },
   "file_extension": ".py",
   "mimetype": "text/x-python",
   "name": "python",
   "nbconvert_exporter": "python",
   "pygments_lexer": "ipython3",
   "version": "3.12.2"
  }
 },
 "nbformat": 4,
 "nbformat_minor": 2
}
