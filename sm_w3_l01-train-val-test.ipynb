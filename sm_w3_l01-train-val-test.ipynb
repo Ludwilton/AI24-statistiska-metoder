{
 "cells": [
  {
   "cell_type": "markdown",
   "metadata": {},
   "source": [
    "### Some useful quantities\n",
    "\n",
    "SSE; sum of square errors = RSS i boken = $\\sum\\limits^{n}_{1=1}(Y_i-\\hat{f}(x))^2$\n",
    "\n",
    "SYY;  total variance for Y = TSS i boken $\\sum\\limits^{n}_{i=1}(Y_i-\\hat{Y})^2$\n",
    "\n",
    "Sxx; varaiance for x $\\sum\\limits^{n}_{i=1}(X-\\hat{x})^2$\n",
    "\n",
    "Sxy; covariance $\\sum\\limits^{n}_{i=1}(x-\\hat{x})(Y-\\hat{y})$\n",
    "\n",
    "SSR; = $SSE - Syy \\implies Syy = SSE + SSR$ \n",
    "\n",
    "\n",
    "                                SSE : irreducible error\n",
    "                                SSR : reducible error\n",
    "\n",
    "\n",
    "e.g\n",
    "\n",
    "$r^2=1-\\frac{SSE}{Syy} = 1-\\frac{RSS}{TSS}$"
   ]
  },
  {
   "cell_type": "markdown",
   "metadata": {},
   "source": [
    "#### Training and validation"
   ]
  },
  {
   "cell_type": "markdown",
   "metadata": {},
   "source": [
    "in machine learning we don't really care about the past(statistically).\n",
    "\n",
    "we split our data in two(or even three) sets.\n",
    "\n",
    "e.g data = train|validation\n",
    "\n",
    "now we need comparison of means between samples (Training set and validation set)\n",
    "\n",
    "nytt väntevärde :\n",
    "\n",
    "$E_{MSE}$ : Expectation for the mean of SSE, N.b $mse = \\frac{1}{n}SSE$\n",
    "\n",
    "$E_{MSE}(Y-\\hat{Y})$: Expectation for difference of mean between Y and our approximation\n",
    "\n",
    "$E_{MSE}(Y-\\hat{Y})^2$ = $Var(\\hat{Y}) + Bias(\\hat{Y})^2 + Var(E)$\n",
    "\n",
    "                  |reducible error|   |irreducible error|\n",
    "\n",
    "\n",
    "\n",
    "RSE : $\\sqrt{\\frac{1}{n-2}SSE}$\n",
    "\n",
    "RSE is run with the model we trained on new data(not even the validation), \n",
    "\n",
    "ie. Train , validation  ,  test\n",
    "\n",
    "    |during training| RSE for quality checks\n",
    "    |(r^2, MSE)"
   ]
  },
  {
   "cell_type": "markdown",
   "metadata": {},
   "source": [
    "### Feature engineering\n",
    "\n"
   ]
  },
  {
   "cell_type": "markdown",
   "metadata": {},
   "source": [
    "$Y = \\beta_{0}+\\beta_{1}X_{1}+...+\\beta{p}X_{p}$\n",
    "\n",
    "i, test significance of predictors, remove those that fail the test\n",
    "\n",
    "ii, Add new features, possibly from other data sources\n",
    "\n",
    "iii, break the rules! add non-linearity **e.g with linearisation with interaction effects\n"
   ]
  },
  {
   "cell_type": "markdown",
   "metadata": {},
   "source": [
    "$\\hat{F}(X)\\implies numbers (real)$ __regression__\n",
    "\n",
    "$\\hat{F}(X)= labels $ (0,1,2) __classification__\n",
    "         \n",
    "                 / | \\\n",
    "         e.g red|green|purple\n",
    "\n",
    "labels are qualitative, categorical data\n"
   ]
  }
 ],
 "metadata": {
  "language_info": {
   "name": "python"
  }
 },
 "nbformat": 4,
 "nbformat_minor": 2
}
