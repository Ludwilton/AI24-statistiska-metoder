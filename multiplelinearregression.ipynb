{
 "cells": [
  {
   "cell_type": "markdown",
   "metadata": {},
   "source": [
    "# multipel linjär regression"
   ]
  },
  {
   "cell_type": "markdown",
   "metadata": {},
   "source": [
    "\n",
    "\n",
    "$$Y = X\\beta + E$$\n",
    "\n",
    "där X ör modellspecifikations matrisen, E är vektorn med stokastiska fel med avseeende på väntevärdet och y är en respons för vektorn för y över hela stickprovet."
   ]
  },
  {
   "cell_type": "code",
   "execution_count": 1,
   "metadata": {},
   "outputs": [
    {
     "data": {
      "text/html": [
       "<div>\n",
       "<style scoped>\n",
       "    .dataframe tbody tr th:only-of-type {\n",
       "        vertical-align: middle;\n",
       "    }\n",
       "\n",
       "    .dataframe tbody tr th {\n",
       "        vertical-align: top;\n",
       "    }\n",
       "\n",
       "    .dataframe thead th {\n",
       "        text-align: right;\n",
       "    }\n",
       "</style>\n",
       "<table border=\"1\" class=\"dataframe\">\n",
       "  <thead>\n",
       "    <tr style=\"text-align: right;\">\n",
       "      <th></th>\n",
       "      <th>TV</th>\n",
       "      <th>radio</th>\n",
       "      <th>newspaper</th>\n",
       "      <th>sales</th>\n",
       "    </tr>\n",
       "  </thead>\n",
       "  <tbody>\n",
       "    <tr>\n",
       "      <th>1</th>\n",
       "      <td>230.1</td>\n",
       "      <td>37.8</td>\n",
       "      <td>69.2</td>\n",
       "      <td>22.1</td>\n",
       "    </tr>\n",
       "    <tr>\n",
       "      <th>2</th>\n",
       "      <td>44.5</td>\n",
       "      <td>39.3</td>\n",
       "      <td>45.1</td>\n",
       "      <td>10.4</td>\n",
       "    </tr>\n",
       "    <tr>\n",
       "      <th>3</th>\n",
       "      <td>17.2</td>\n",
       "      <td>45.9</td>\n",
       "      <td>69.3</td>\n",
       "      <td>9.3</td>\n",
       "    </tr>\n",
       "    <tr>\n",
       "      <th>4</th>\n",
       "      <td>151.5</td>\n",
       "      <td>41.3</td>\n",
       "      <td>58.5</td>\n",
       "      <td>18.5</td>\n",
       "    </tr>\n",
       "    <tr>\n",
       "      <th>5</th>\n",
       "      <td>180.8</td>\n",
       "      <td>10.8</td>\n",
       "      <td>58.4</td>\n",
       "      <td>12.9</td>\n",
       "    </tr>\n",
       "  </tbody>\n",
       "</table>\n",
       "</div>"
      ],
      "text/plain": [
       "      TV  radio  newspaper  sales\n",
       "1  230.1   37.8       69.2   22.1\n",
       "2   44.5   39.3       45.1   10.4\n",
       "3   17.2   45.9       69.3    9.3\n",
       "4  151.5   41.3       58.5   18.5\n",
       "5  180.8   10.8       58.4   12.9"
      ]
     },
     "execution_count": 1,
     "metadata": {},
     "output_type": "execute_result"
    }
   ],
   "source": [
    "import pandas as pd\n",
    "import numpy as np\n",
    "\n",
    "data_path = \"/Users/luddecmc/Desktop/SKOLARBETE-ITHS/repos/AI24-Statistiska-metoder/Data\"\n",
    "\n",
    "adv = pd.read_csv(data_path+\"/Advertising.csv\", index_col=0)\n",
    "adv.head()"
   ]
  },
  {
   "cell_type": "code",
   "execution_count": 2,
   "metadata": {},
   "outputs": [],
   "source": [
    "test_df = pd.DataFrame(adv[:10])\n",
    "train_df = pd.DataFrame(adv[10:160])\n",
    "val_df = pd.DataFrame(adv[160:])\n",
    "\n",
    "X_test = np.column_stack([np.ones(10),test_df[\"TV\"], test_df[\"radio\"], test_df[\"TV\"]*test_df[\"radio\"]])\n",
    "Y_test = test_df[\"sales\"]\n",
    "\n",
    "X_train = np.column_stack([np.ones(150),train_df[\"TV\"], train_df[\"radio\"], train_df[\"TV\"]*train_df[\"radio\"]])\n",
    "Y_train = train_df[\"sales\"]\n",
    "\n",
    "X_val = np.column_stack([np.ones(40),val_df[\"TV\"], val_df[\"radio\"], val_df[\"TV\"]*val_df[\"radio\"]])\n",
    "Y_val = val_df[\"sales\"]\n",
    "# responsvektorn/responsvariabeln\n",
    "# Y = adv[\"sales\"]\n",
    "# designmatris\n",
    "# X = np.column_stack([np.ones(Y.shape[0]),adv[\"TV\"], adv[\"radio\"], adv[\"TV\"]*adv[\"radio\"]])\n",
    "\n"
   ]
  },
  {
   "cell_type": "markdown",
   "metadata": {},
   "source": [
    "$$\n",
    "\\hat{\\mathbf{\\beta}} = (X^TX)^{-1}X^TY\n",
    "$$"
   ]
  },
  {
   "cell_type": "code",
   "execution_count": 3,
   "metadata": {},
   "outputs": [],
   "source": [
    "# koeffecientvektor\n",
    "b = np.linalg.pinv(X_train.T @ X_train) @ X_train.T @ Y_train"
   ]
  },
  {
   "cell_type": "markdown",
   "metadata": {},
   "source": [
    "$$ SSE = (y1 -\\hat\\beta0 - \\hat\\beta1 x1)^2 + (y2 - \\hat\\beta0 - \\hat\\beta1 x2)^2 + ... + (yn - \\hat\\beta0 - \\hat\\beta1 xn)^2$$"
   ]
  },
  {
   "cell_type": "code",
   "execution_count": 4,
   "metadata": {},
   "outputs": [
    {
     "data": {
      "text/plain": [
       "6683.630769660356"
      ]
     },
     "execution_count": 4,
     "metadata": {},
     "output_type": "execute_result"
    }
   ],
   "source": [
    "#antalet dimensioner/parametrar\n",
    "k = len(b)-1\n",
    "n = len(Y_train) # eller Y.shape[0]\n",
    "SSE = np.sum(np.square(Y_val - (X_val @ b)))\n",
    "\n",
    "\n",
    "\n",
    "var = SSE/(n-k-1)\n",
    "\n",
    "# SIGMA HATT KVADRAT\n",
    "S = np.sqrt(var)\n",
    "\n",
    "\n",
    "# SSY\n",
    "Syy = (n*np.sum(np.square(Y_val)) - np.square(np.sum(Y_val)))/n\n",
    "\n",
    "# residual\n",
    "SSR = Syy - SSE\n",
    "# eller\n",
    "# SSR_2 = (n*np.sum(b*(X.T @ Y)) - np.square(np.sum(Y)))/n\n",
    "SSR\n"
   ]
  },
  {
   "cell_type": "code",
   "execution_count": 5,
   "metadata": {},
   "outputs": [
    {
     "data": {
      "text/plain": [
       "<matplotlib.collections.PathCollection at 0x127dff3b0>"
      ]
     },
     "execution_count": 5,
     "metadata": {},
     "output_type": "execute_result"
    },
    {
     "data": {
      "image/png": "[encoded data removed]",
      "text/plain": [
       "<Figure size 640x480 with 1 Axes>"
      ]
     },
     "metadata": {},
     "output_type": "display_data"
    }
   ],
   "source": [
    "import matplotlib.pyplot as plt\n",
    "\n",
    "\n",
    "plt.scatter(Y_val, X_val @ b)"
   ]
  },
  {
   "cell_type": "code",
   "execution_count": 6,
   "metadata": {},
   "outputs": [
    {
     "data": {
      "text/plain": [
       "array([6.88157647e+00, 1.86678349e-02, 2.42869419e-02, 1.10431159e-03])"
      ]
     },
     "execution_count": 6,
     "metadata": {},
     "output_type": "execute_result"
    }
   ],
   "source": [
    "b"
   ]
  },
  {
   "cell_type": "code",
   "execution_count": 7,
   "metadata": {},
   "outputs": [
    {
     "data": {
      "text/plain": [
       "0.9977033993820285"
      ]
     },
     "execution_count": 7,
     "metadata": {},
     "output_type": "execute_result"
    }
   ],
   "source": [
    "#rkvadrat - konfidensgrad\n",
    "Rsq = SSR/Syy\n",
    "\n",
    "Rsq\n",
    "\n",
    "# avrundad till 90%\n",
    "# choose 90% as confidence level"
   ]
  },
  {
   "cell_type": "code",
   "execution_count": 8,
   "metadata": {},
   "outputs": [
    {
     "data": {
      "text/plain": [
       "7.291164286367215e-157"
      ]
     },
     "execution_count": 8,
     "metadata": {},
     "output_type": "execute_result"
    }
   ],
   "source": [
    "import scipy.stats as stats\n",
    "# signifikanstest\n",
    "# H0: All \\beta = 0\n",
    "sig_statistic = (SSR/k)/S\n",
    "p_significance = stats.f.sf(sig_statistic, k, n-k-1)\n",
    "# p värdet representerar här en sannolikhet\n",
    "p_significance\n"
   ]
  },
  {
   "cell_type": "code",
   "execution_count": 9,
   "metadata": {},
   "outputs": [],
   "source": [
    "# slutsats, extremt låg sannolikhet att H0 är sann, we reject the null hypothesis, regression IS significant"
   ]
  },
  {
   "cell_type": "markdown",
   "metadata": {},
   "source": [
    "variance / covariance matrix\n",
    "$$\n",
    "c = (X^TX)^{-1}\\sigma^2\n",
    "$$"
   ]
  },
  {
   "cell_type": "code",
   "execution_count": 10,
   "metadata": {},
   "outputs": [
    {
     "data": {
      "text/plain": [
       "1.4038828172294987e-162"
      ]
     },
     "execution_count": 10,
     "metadata": {},
     "output_type": "execute_result"
    }
   ],
   "source": [
    "# variance/covariance matrix\n",
    "c = np.linalg.pinv(X_train.T @ X_train)*var\n",
    "\n",
    "# tittar på newspaper som var minus\n",
    "b3_statistic = b[3] / (S*np.sqrt(c[3,3]))\n",
    "\n",
    "# null hypothesis: beta_3 = 0, beta3 är inte signifikant, dvs newspaper är inte signifikant\n",
    "\n",
    "p_b3 = 2*min(stats.t.cdf(b3_statistic, n-k-1), stats.t.sf(b3_statistic, n-k-1))\n",
    "p_b3"
   ]
  },
  {
   "cell_type": "markdown",
   "metadata": {},
   "source": [
    "detta tyder på att b3 är irrelevant"
   ]
  },
  {
   "cell_type": "code",
   "execution_count": 11,
   "metadata": {},
   "outputs": [
    {
     "data": {
      "text/plain": [
       "1.2646362237833524"
      ]
     },
     "execution_count": 11,
     "metadata": {},
     "output_type": "execute_result"
    }
   ],
   "source": [
    "RSE = np.sqrt(1/(n-2))*SSE\n",
    "RSE\n"
   ]
  },
  {
   "cell_type": "code",
   "execution_count": 12,
   "metadata": {},
   "outputs": [
    {
     "data": {
      "text/plain": [
       "0.27241384575098876"
      ]
     },
     "execution_count": 12,
     "metadata": {},
     "output_type": "execute_result"
    }
   ],
   "source": [
    "SSE_test = np.sum(np.square(Y_test - (X_test @ b)))\n",
    "RSE = np.sqrt((1/(n-2))*SSE_test)\n",
    "RSE"
   ]
  }
 ],
 "metadata": {
  "kernelspec": {
   "display_name": ".venv",
   "language": "python",
   "name": "python3"
  },
  "language_info": {
   "codemirror_mode": {
    "name": "ipython",
    "version": 3
   },
   "file_extension": ".py",
   "mimetype": "text/x-python",
   "name": "python",
   "nbconvert_exporter": "python",
   "pygments_lexer": "ipython3",
   "version": "3.12.6"
  }
 },
 "nbformat": 4,
 "nbformat_minor": 2
}
